{
  "nbformat": 4,
  "nbformat_minor": 0,
  "metadata": {
    "colab": {
      "provenance": []
    },
    "kernelspec": {
      "name": "python3",
      "display_name": "Python 3"
    },
    "language_info": {
      "name": "python"
    }
  },
  "cells": [
    {
      "cell_type": "code",
      "execution_count": 12,
      "metadata": {
        "id": "_pKCwKduH-tq"
      },
      "outputs": [],
      "source": [
        "import pandas as pd\n",
        "\n",
        "# Replace 'dataset_url' with the URL or file path of the dataset\n",
        "dataset_url = \"https://archive.ics.uci.edu/ml/machine-learning-databases/adult/adult.data\"\n",
        "column_names = [\"age\", \"workclass\", \"fnlwgt\", \"education\", \"education-num\", \"marital-status\", \"occupation\",\n",
        "                \"relationship\", \"race\", \"sex\", \"capital-gain\", \"capital-loss\", \"hours-per-week\", \"native-country\", \"income\"]\n",
        "df = pd.read_csv(dataset_url, names=column_names, header=None, na_values=[\"?\"])\n"
      ]
    },
    {
      "cell_type": "code",
      "source": [
        "# View first few rows\n",
        "print(df.head())\n",
        "\n",
        "# Check data types and missing values\n",
        "print(df.info())\n",
        "\n",
        "# Summary statistics\n",
        "print(df.describe(include=\"all\"))\n"
      ],
      "metadata": {
        "colab": {
          "base_uri": "https://localhost:8080/"
        },
        "id": "QvEB838PIWJI",
        "outputId": "60fde4dd-d812-4645-d2aa-96e345d9c83e"
      },
      "execution_count": 13,
      "outputs": [
        {
          "output_type": "stream",
          "name": "stdout",
          "text": [
            "   age          workclass  fnlwgt   education  education-num  \\\n",
            "0   39          State-gov   77516   Bachelors             13   \n",
            "1   50   Self-emp-not-inc   83311   Bachelors             13   \n",
            "2   38            Private  215646     HS-grad              9   \n",
            "3   53            Private  234721        11th              7   \n",
            "4   28            Private  338409   Bachelors             13   \n",
            "\n",
            "        marital-status          occupation    relationship    race      sex  \\\n",
            "0        Never-married        Adm-clerical   Not-in-family   White     Male   \n",
            "1   Married-civ-spouse     Exec-managerial         Husband   White     Male   \n",
            "2             Divorced   Handlers-cleaners   Not-in-family   White     Male   \n",
            "3   Married-civ-spouse   Handlers-cleaners         Husband   Black     Male   \n",
            "4   Married-civ-spouse      Prof-specialty            Wife   Black   Female   \n",
            "\n",
            "   capital-gain  capital-loss  hours-per-week  native-country  income  \n",
            "0          2174             0              40   United-States   <=50K  \n",
            "1             0             0              13   United-States   <=50K  \n",
            "2             0             0              40   United-States   <=50K  \n",
            "3             0             0              40   United-States   <=50K  \n",
            "4             0             0              40            Cuba   <=50K  \n",
            "<class 'pandas.core.frame.DataFrame'>\n",
            "RangeIndex: 32561 entries, 0 to 32560\n",
            "Data columns (total 15 columns):\n",
            " #   Column          Non-Null Count  Dtype \n",
            "---  ------          --------------  ----- \n",
            " 0   age             32561 non-null  int64 \n",
            " 1   workclass       32561 non-null  object\n",
            " 2   fnlwgt          32561 non-null  int64 \n",
            " 3   education       32561 non-null  object\n",
            " 4   education-num   32561 non-null  int64 \n",
            " 5   marital-status  32561 non-null  object\n",
            " 6   occupation      32561 non-null  object\n",
            " 7   relationship    32561 non-null  object\n",
            " 8   race            32561 non-null  object\n",
            " 9   sex             32561 non-null  object\n",
            " 10  capital-gain    32561 non-null  int64 \n",
            " 11  capital-loss    32561 non-null  int64 \n",
            " 12  hours-per-week  32561 non-null  int64 \n",
            " 13  native-country  32561 non-null  object\n",
            " 14  income          32561 non-null  object\n",
            "dtypes: int64(6), object(9)\n",
            "memory usage: 3.7+ MB\n",
            "None\n",
            "                 age workclass        fnlwgt education  education-num  \\\n",
            "count   32561.000000     32561  3.256100e+04     32561   32561.000000   \n",
            "unique           NaN         9           NaN        16            NaN   \n",
            "top              NaN   Private           NaN   HS-grad            NaN   \n",
            "freq             NaN     22696           NaN     10501            NaN   \n",
            "mean       38.581647       NaN  1.897784e+05       NaN      10.080679   \n",
            "std        13.640433       NaN  1.055500e+05       NaN       2.572720   \n",
            "min        17.000000       NaN  1.228500e+04       NaN       1.000000   \n",
            "25%        28.000000       NaN  1.178270e+05       NaN       9.000000   \n",
            "50%        37.000000       NaN  1.783560e+05       NaN      10.000000   \n",
            "75%        48.000000       NaN  2.370510e+05       NaN      12.000000   \n",
            "max        90.000000       NaN  1.484705e+06       NaN      16.000000   \n",
            "\n",
            "             marital-status       occupation relationship    race    sex  \\\n",
            "count                 32561            32561        32561   32561  32561   \n",
            "unique                    7               15            6       5      2   \n",
            "top      Married-civ-spouse   Prof-specialty      Husband   White   Male   \n",
            "freq                  14976             4140        13193   27816  21790   \n",
            "mean                    NaN              NaN          NaN     NaN    NaN   \n",
            "std                     NaN              NaN          NaN     NaN    NaN   \n",
            "min                     NaN              NaN          NaN     NaN    NaN   \n",
            "25%                     NaN              NaN          NaN     NaN    NaN   \n",
            "50%                     NaN              NaN          NaN     NaN    NaN   \n",
            "75%                     NaN              NaN          NaN     NaN    NaN   \n",
            "max                     NaN              NaN          NaN     NaN    NaN   \n",
            "\n",
            "        capital-gain  capital-loss  hours-per-week  native-country  income  \n",
            "count   32561.000000  32561.000000    32561.000000           32561   32561  \n",
            "unique           NaN           NaN             NaN              42       2  \n",
            "top              NaN           NaN             NaN   United-States   <=50K  \n",
            "freq             NaN           NaN             NaN           29170   24720  \n",
            "mean     1077.648844     87.303830       40.437456             NaN     NaN  \n",
            "std      7385.292085    402.960219       12.347429             NaN     NaN  \n",
            "min         0.000000      0.000000        1.000000             NaN     NaN  \n",
            "25%         0.000000      0.000000       40.000000             NaN     NaN  \n",
            "50%         0.000000      0.000000       40.000000             NaN     NaN  \n",
            "75%         0.000000      0.000000       45.000000             NaN     NaN  \n",
            "max     99999.000000   4356.000000       99.000000             NaN     NaN  \n"
          ]
        }
      ]
    },
    {
      "cell_type": "code",
      "source": [
        "print(df.isnull().sum())\n"
      ],
      "metadata": {
        "colab": {
          "base_uri": "https://localhost:8080/"
        },
        "id": "8_dKHvwcIZEr",
        "outputId": "3e237cce-5ebb-4910-88ef-54cba5a7da72"
      },
      "execution_count": 14,
      "outputs": [
        {
          "output_type": "stream",
          "name": "stdout",
          "text": [
            "age               0\n",
            "workclass         0\n",
            "fnlwgt            0\n",
            "education         0\n",
            "education-num     0\n",
            "marital-status    0\n",
            "occupation        0\n",
            "relationship      0\n",
            "race              0\n",
            "sex               0\n",
            "capital-gain      0\n",
            "capital-loss      0\n",
            "hours-per-week    0\n",
            "native-country    0\n",
            "income            0\n",
            "dtype: int64\n"
          ]
        }
      ]
    },
    {
      "cell_type": "code",
      "source": [
        "# Drop rows with missing values\n",
        "df.dropna(inplace=True)\n",
        "\n",
        "# Alternatively, fill missing values with mode (for categorical data)\n",
        "df[\"workclass\"].fillna(df[\"workclass\"].mode()[0], inplace=True)\n"
      ],
      "metadata": {
        "colab": {
          "base_uri": "https://localhost:8080/"
        },
        "id": "dyj2o2fPIfWA",
        "outputId": "3595aa86-d49a-458c-e4e1-f415fd0b0e77"
      },
      "execution_count": 15,
      "outputs": [
        {
          "output_type": "stream",
          "name": "stderr",
          "text": [
            "<ipython-input-15-2dc7e0401733>:5: FutureWarning: A value is trying to be set on a copy of a DataFrame or Series through chained assignment using an inplace method.\n",
            "The behavior will change in pandas 3.0. This inplace method will never work because the intermediate object on which we are setting values always behaves as a copy.\n",
            "\n",
            "For example, when doing 'df[col].method(value, inplace=True)', try using 'df.method({col: value}, inplace=True)' or df[col] = df[col].method(value) instead, to perform the operation inplace on the original object.\n",
            "\n",
            "\n",
            "  df[\"workclass\"].fillna(df[\"workclass\"].mode()[0], inplace=True)\n"
          ]
        }
      ]
    },
    {
      "cell_type": "code",
      "source": [
        "# Check for duplicates\n",
        "print(df.duplicated().sum())\n",
        "\n",
        "# Drop duplicates\n",
        "df.drop_duplicates(inplace=True)\n"
      ],
      "metadata": {
        "colab": {
          "base_uri": "https://localhost:8080/"
        },
        "id": "DNmS5HtJIjLT",
        "outputId": "92ff4529-f29a-44b9-921e-e18c40c55bdb"
      },
      "execution_count": 16,
      "outputs": [
        {
          "output_type": "stream",
          "name": "stdout",
          "text": [
            "24\n"
          ]
        }
      ]
    },
    {
      "cell_type": "code",
      "source": [
        "df[\"workclass\"] = df[\"workclass\"].str.strip().str.capitalize()\n"
      ],
      "metadata": {
        "id": "JlKvaJjSIoox"
      },
      "execution_count": 17,
      "outputs": []
    },
    {
      "cell_type": "code",
      "source": [
        "# One-hot encoding\n",
        "df = pd.get_dummies(df, columns=[\"workclass\", \"sex\"], drop_first=True)\n",
        "\n",
        "# Label encoding (for binary classification)\n",
        "from sklearn.preprocessing import LabelEncoder\n",
        "le = LabelEncoder()\n",
        "df[\"income\"] = le.fit_transform(df[\"income\"])\n"
      ],
      "metadata": {
        "id": "k5FvSz8AItah"
      },
      "execution_count": 18,
      "outputs": []
    },
    {
      "cell_type": "code",
      "source": [
        "from sklearn.preprocessing import MinMaxScaler\n",
        "\n",
        "scaler = MinMaxScaler()\n",
        "df[[\"age\", \"capital-gain\", \"capital-loss\", \"hours-per-week\"]] = scaler.fit_transform(\n",
        "    df[[\"age\", \"capital-gain\", \"capital-loss\", \"hours-per-week\"]])\n"
      ],
      "metadata": {
        "id": "mkO9n9FsIyO3"
      },
      "execution_count": 19,
      "outputs": []
    },
    {
      "cell_type": "code",
      "source": [
        "df.to_csv(\"cleaned_dataset.csv\", index=False)\n"
      ],
      "metadata": {
        "id": "ZyFqdbJuI2IG"
      },
      "execution_count": 20,
      "outputs": []
    }
  ]
}